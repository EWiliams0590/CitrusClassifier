{
 "cells": [
  {
   "cell_type": "markdown",
   "id": "compliant-excuse",
   "metadata": {},
   "source": [
    "### This notebook is using a dataset found at Kaggle to predict whether a citrus fruit is an orange or grapefruit.\n",
    "\n",
    "The given data is the diameter, weight, and rgb color of the fruit along with the identification. However, I was most interested in being able to classify without using color with the idea that a scale, to measure the weight, and a ruler to measure the diameter are definitive numbers, whereas identifying the color amount of RGB is not something a human can easily do.\n",
    "\n",
    "To help with the classification, since this only left me with two features, I created new columns based on the two original columns of diameter and weight."
   ]
  },
  {
   "cell_type": "code",
   "execution_count": 1,
   "id": "radio-singer",
   "metadata": {},
   "outputs": [],
   "source": [
    "%config Completer.use_jedi = False"
   ]
  },
  {
   "cell_type": "code",
   "execution_count": 2,
   "id": "secret-buffalo",
   "metadata": {},
   "outputs": [],
   "source": [
    "import numpy as np\n",
    "import pandas as pd\n",
    "import matplotlib.pyplot as plt\n",
    "import seaborn as sns\n",
    "\n",
    "from sklearn.metrics import plot_confusion_matrix, classification_report, accuracy_score\n",
    "from sklearn.model_selection import train_test_split, GridSearchCV\n",
    "from sklearn.pipeline import Pipeline\n",
    "from sklearn.preprocessing import StandardScaler, LabelEncoder, PolynomialFeatures\n",
    "from sklearn.base import BaseEstimator, TransformerMixin\n",
    "import xgboost as xgb\n",
    "\n",
    "from scipy import stats"
   ]
  },
  {
   "cell_type": "code",
   "execution_count": 3,
   "id": "martial-customer",
   "metadata": {},
   "outputs": [],
   "source": [
    "df = pd.read_csv('citrus.csv')"
   ]
  },
  {
   "cell_type": "code",
   "execution_count": 4,
   "id": "incomplete-jewelry",
   "metadata": {},
   "outputs": [
    {
     "data": {
      "text/html": [
       "<div>\n",
       "<style scoped>\n",
       "    .dataframe tbody tr th:only-of-type {\n",
       "        vertical-align: middle;\n",
       "    }\n",
       "\n",
       "    .dataframe tbody tr th {\n",
       "        vertical-align: top;\n",
       "    }\n",
       "\n",
       "    .dataframe thead th {\n",
       "        text-align: right;\n",
       "    }\n",
       "</style>\n",
       "<table border=\"1\" class=\"dataframe\">\n",
       "  <thead>\n",
       "    <tr style=\"text-align: right;\">\n",
       "      <th></th>\n",
       "      <th>name</th>\n",
       "      <th>diameter</th>\n",
       "      <th>weight</th>\n",
       "      <th>red</th>\n",
       "      <th>green</th>\n",
       "      <th>blue</th>\n",
       "    </tr>\n",
       "  </thead>\n",
       "  <tbody>\n",
       "    <tr>\n",
       "      <th>0</th>\n",
       "      <td>orange</td>\n",
       "      <td>2.96</td>\n",
       "      <td>86.76</td>\n",
       "      <td>172</td>\n",
       "      <td>85</td>\n",
       "      <td>2</td>\n",
       "    </tr>\n",
       "    <tr>\n",
       "      <th>1</th>\n",
       "      <td>orange</td>\n",
       "      <td>3.91</td>\n",
       "      <td>88.05</td>\n",
       "      <td>166</td>\n",
       "      <td>78</td>\n",
       "      <td>3</td>\n",
       "    </tr>\n",
       "    <tr>\n",
       "      <th>2</th>\n",
       "      <td>orange</td>\n",
       "      <td>4.42</td>\n",
       "      <td>95.17</td>\n",
       "      <td>156</td>\n",
       "      <td>81</td>\n",
       "      <td>2</td>\n",
       "    </tr>\n",
       "    <tr>\n",
       "      <th>3</th>\n",
       "      <td>orange</td>\n",
       "      <td>4.47</td>\n",
       "      <td>95.60</td>\n",
       "      <td>163</td>\n",
       "      <td>81</td>\n",
       "      <td>4</td>\n",
       "    </tr>\n",
       "    <tr>\n",
       "      <th>4</th>\n",
       "      <td>orange</td>\n",
       "      <td>4.48</td>\n",
       "      <td>95.76</td>\n",
       "      <td>161</td>\n",
       "      <td>72</td>\n",
       "      <td>9</td>\n",
       "    </tr>\n",
       "  </tbody>\n",
       "</table>\n",
       "</div>"
      ],
      "text/plain": [
       "     name  diameter  weight  red  green  blue\n",
       "0  orange      2.96   86.76  172     85     2\n",
       "1  orange      3.91   88.05  166     78     3\n",
       "2  orange      4.42   95.17  156     81     2\n",
       "3  orange      4.47   95.60  163     81     4\n",
       "4  orange      4.48   95.76  161     72     9"
      ]
     },
     "execution_count": 4,
     "metadata": {},
     "output_type": "execute_result"
    }
   ],
   "source": [
    "df.head()"
   ]
  },
  {
   "cell_type": "code",
   "execution_count": 5,
   "id": "naked-replacement",
   "metadata": {},
   "outputs": [
    {
     "data": {
      "text/plain": [
       "grapefruit    5000\n",
       "orange        5000\n",
       "Name: name, dtype: int64"
      ]
     },
     "execution_count": 5,
     "metadata": {},
     "output_type": "execute_result"
    }
   ],
   "source": [
    "df['name'].value_counts() # perfectly balanced. Probably intentional."
   ]
  },
  {
   "cell_type": "code",
   "execution_count": 6,
   "id": "celtic-missile",
   "metadata": {},
   "outputs": [
    {
     "name": "stdout",
     "output_type": "stream",
     "text": [
      "<class 'pandas.core.frame.DataFrame'>\n",
      "RangeIndex: 10000 entries, 0 to 9999\n",
      "Data columns (total 6 columns):\n",
      " #   Column    Non-Null Count  Dtype  \n",
      "---  ------    --------------  -----  \n",
      " 0   name      10000 non-null  object \n",
      " 1   diameter  10000 non-null  float64\n",
      " 2   weight    10000 non-null  float64\n",
      " 3   red       10000 non-null  int64  \n",
      " 4   green     10000 non-null  int64  \n",
      " 5   blue      10000 non-null  int64  \n",
      "dtypes: float64(2), int64(3), object(1)\n",
      "memory usage: 468.9+ KB\n"
     ]
    }
   ],
   "source": [
    "df.info() #no nulls"
   ]
  },
  {
   "cell_type": "code",
   "execution_count": 7,
   "id": "sized-communist",
   "metadata": {},
   "outputs": [
    {
     "data": {
      "text/plain": [
       "array([False])"
      ]
     },
     "execution_count": 7,
     "metadata": {},
     "output_type": "execute_result"
    }
   ],
   "source": [
    "df.duplicated().unique() #no duplicates"
   ]
  },
  {
   "cell_type": "code",
   "execution_count": 8,
   "id": "previous-basics",
   "metadata": {},
   "outputs": [],
   "source": [
    "df.drop(['red', 'green', 'blue'], axis=1, inplace=True) # Remove colors"
   ]
  },
  {
   "cell_type": "code",
   "execution_count": 9,
   "id": "exclusive-cooking",
   "metadata": {},
   "outputs": [
    {
     "data": {
      "text/html": [
       "<div>\n",
       "<style scoped>\n",
       "    .dataframe tbody tr th:only-of-type {\n",
       "        vertical-align: middle;\n",
       "    }\n",
       "\n",
       "    .dataframe tbody tr th {\n",
       "        vertical-align: top;\n",
       "    }\n",
       "\n",
       "    .dataframe thead th {\n",
       "        text-align: right;\n",
       "    }\n",
       "</style>\n",
       "<table border=\"1\" class=\"dataframe\">\n",
       "  <thead>\n",
       "    <tr style=\"text-align: right;\">\n",
       "      <th></th>\n",
       "      <th>name</th>\n",
       "      <th>diameter</th>\n",
       "      <th>weight</th>\n",
       "    </tr>\n",
       "  </thead>\n",
       "  <tbody>\n",
       "    <tr>\n",
       "      <th>0</th>\n",
       "      <td>orange</td>\n",
       "      <td>2.96</td>\n",
       "      <td>86.76</td>\n",
       "    </tr>\n",
       "    <tr>\n",
       "      <th>1</th>\n",
       "      <td>orange</td>\n",
       "      <td>3.91</td>\n",
       "      <td>88.05</td>\n",
       "    </tr>\n",
       "    <tr>\n",
       "      <th>2</th>\n",
       "      <td>orange</td>\n",
       "      <td>4.42</td>\n",
       "      <td>95.17</td>\n",
       "    </tr>\n",
       "    <tr>\n",
       "      <th>3</th>\n",
       "      <td>orange</td>\n",
       "      <td>4.47</td>\n",
       "      <td>95.60</td>\n",
       "    </tr>\n",
       "    <tr>\n",
       "      <th>4</th>\n",
       "      <td>orange</td>\n",
       "      <td>4.48</td>\n",
       "      <td>95.76</td>\n",
       "    </tr>\n",
       "  </tbody>\n",
       "</table>\n",
       "</div>"
      ],
      "text/plain": [
       "     name  diameter  weight\n",
       "0  orange      2.96   86.76\n",
       "1  orange      3.91   88.05\n",
       "2  orange      4.42   95.17\n",
       "3  orange      4.47   95.60\n",
       "4  orange      4.48   95.76"
      ]
     },
     "execution_count": 9,
     "metadata": {},
     "output_type": "execute_result"
    }
   ],
   "source": [
    "df.head()"
   ]
  },
  {
   "cell_type": "markdown",
   "id": "korean-mortality",
   "metadata": {},
   "source": [
    "## Exploratory Data Analysis"
   ]
  },
  {
   "cell_type": "markdown",
   "id": "contemporary-midwest",
   "metadata": {},
   "source": [
    "I first visualize the two columns compared to the classification 'name', and see if there is good separation."
   ]
  },
  {
   "cell_type": "code",
   "execution_count": 10,
   "id": "isolated-america",
   "metadata": {},
   "outputs": [
    {
     "data": {
      "text/plain": [
       "<seaborn.axisgrid.PairGrid at 0x1cb16363af0>"
      ]
     },
     "execution_count": 10,
     "metadata": {},
     "output_type": "execute_result"
    },
    {
     "data": {
      "image/png": "[encoded data removed]",
      "text/plain": [
       "<Figure size 445.875x360 with 6 Axes>"
      ]
     },
     "metadata": {
      "needs_background": "light"
     },
     "output_type": "display_data"
    }
   ],
   "source": [
    "sns.pairplot(data=df, hue='name',)"
   ]
  },
  {
   "cell_type": "code",
   "execution_count": 11,
   "id": "completed-pharmacy",
   "metadata": {},
   "outputs": [
    {
     "data": {
      "text/html": [
       "<div>\n",
       "<style scoped>\n",
       "    .dataframe tbody tr th:only-of-type {\n",
       "        vertical-align: middle;\n",
       "    }\n",
       "\n",
       "    .dataframe tbody tr th {\n",
       "        vertical-align: top;\n",
       "    }\n",
       "\n",
       "    .dataframe thead th {\n",
       "        text-align: right;\n",
       "    }\n",
       "</style>\n",
       "<table border=\"1\" class=\"dataframe\">\n",
       "  <thead>\n",
       "    <tr style=\"text-align: right;\">\n",
       "      <th></th>\n",
       "      <th>count</th>\n",
       "      <th>mean</th>\n",
       "      <th>std</th>\n",
       "      <th>min</th>\n",
       "      <th>25%</th>\n",
       "      <th>50%</th>\n",
       "      <th>75%</th>\n",
       "      <th>max</th>\n",
       "    </tr>\n",
       "  </thead>\n",
       "  <tbody>\n",
       "    <tr>\n",
       "      <th>diameter</th>\n",
       "      <td>10000.0</td>\n",
       "      <td>9.975685</td>\n",
       "      <td>1.947844</td>\n",
       "      <td>2.96</td>\n",
       "      <td>8.46</td>\n",
       "      <td>9.980</td>\n",
       "      <td>11.4800</td>\n",
       "      <td>16.45</td>\n",
       "    </tr>\n",
       "    <tr>\n",
       "      <th>weight</th>\n",
       "      <td>10000.0</td>\n",
       "      <td>175.050792</td>\n",
       "      <td>29.212119</td>\n",
       "      <td>86.76</td>\n",
       "      <td>152.22</td>\n",
       "      <td>174.985</td>\n",
       "      <td>197.7225</td>\n",
       "      <td>261.51</td>\n",
       "    </tr>\n",
       "  </tbody>\n",
       "</table>\n",
       "</div>"
      ],
      "text/plain": [
       "            count        mean        std    min     25%      50%       75%  \\\n",
       "diameter  10000.0    9.975685   1.947844   2.96    8.46    9.980   11.4800   \n",
       "weight    10000.0  175.050792  29.212119  86.76  152.22  174.985  197.7225   \n",
       "\n",
       "             max  \n",
       "diameter   16.45  \n",
       "weight    261.51  "
      ]
     },
     "execution_count": 11,
     "metadata": {},
     "output_type": "execute_result"
    }
   ],
   "source": [
    "df.describe().transpose()"
   ]
  },
  {
   "cell_type": "code",
   "execution_count": 12,
   "id": "remarkable-membership",
   "metadata": {},
   "outputs": [
    {
     "data": {
      "text/plain": [
       "<AxesSubplot:xlabel='diameter', ylabel='Count'>"
      ]
     },
     "execution_count": 12,
     "metadata": {},
     "output_type": "execute_result"
    },
    {
     "data": {
      "image/png": "[encoded data removed]",
      "text/plain": [
       "<Figure size 432x288 with 1 Axes>"
      ]
     },
     "metadata": {
      "needs_background": "light"
     },
     "output_type": "display_data"
    }
   ],
   "source": [
    "sns.histplot(data=df, x='diameter')"
   ]
  },
  {
   "cell_type": "code",
   "execution_count": 13,
   "id": "nonprofit-delta",
   "metadata": {},
   "outputs": [
    {
     "data": {
      "text/plain": [
       "<AxesSubplot:xlabel='weight', ylabel='Count'>"
      ]
     },
     "execution_count": 13,
     "metadata": {},
     "output_type": "execute_result"
    },
    {
     "data": {
      "image/png": "[encoded data removed]",
      "text/plain": [
       "<Figure size 432x288 with 1 Axes>"
      ]
     },
     "metadata": {
      "needs_background": "light"
     },
     "output_type": "display_data"
    }
   ],
   "source": [
    "sns.histplot(data=df, x='weight')"
   ]
  },
  {
   "cell_type": "markdown",
   "id": "enhanced-element",
   "metadata": {},
   "source": [
    "The above graph shows that the diameter and weight for all the fruits appear to be linearly related; however, the kde plots show that oranges have a smaller diameter and weight.\n",
    "\n",
    "Additionally, the data looks fairly normal, without many outliers. Since there were no duplicates or nulls, I will not remove any data.\n",
    "\n",
    "Below are the two sample t-test statistics to see if there is a significant difference between these two features (diameter and weight) for each fruit."
   ]
  },
  {
   "cell_type": "code",
   "execution_count": 14,
   "id": "mounted-tourism",
   "metadata": {},
   "outputs": [
    {
     "name": "stdout",
     "output_type": "stream",
     "text": [
      "For the feature diameter, the two sample t-test statistics and p-values are -120.96567386074341 and 0.0, respectively \n",
      "\n",
      "\n",
      "For the feature weight, the two sample t-test statistics and p-values are -117.49837000434881 and 0.0, respectively \n",
      "\n",
      "\n"
     ]
    }
   ],
   "source": [
    "# Compare the data of orange vs grapefruit with a two-sample ttest\n",
    "\n",
    "orange = df[df['name']=='orange']\n",
    "grapefruit = df[df['name']=='grapefruit']\n",
    "\n",
    "columns = df.columns.drop('name')\n",
    "\n",
    "for col in columns:\n",
    "    orange_col = orange[col]\n",
    "    grapefruit_col = grapefruit[col]\n",
    "    \n",
    "    stat, p_value = stats.ttest_ind(orange_col, grapefruit_col)\n",
    "    \n",
    "    print(f'For the feature {col}, the two sample t-test statistics and p-values are',\n",
    "          f'{stat} and {p_value}, respectively',\n",
    "          '\\n\\n')\n"
   ]
  },
  {
   "cell_type": "markdown",
   "id": "chicken-comment",
   "metadata": {},
   "source": [
    "## Model Creation\n",
    "\n",
    "The above shows that the weight and diameter features seem to be quite different with split on the label category, which means these two features could be good for classification.\n",
    "\n",
    "I initially used a variety of models with grid searches, including Logistic Regression, SVC, Random Forest, and Ada Boost, but XGB Classifier blew the rest out of the water.\n",
    "\n",
    "Additionally, in going through many grid searches, adding new features, I determined the model that was working best was the model using the data that added a density column, where density = weight / diameter**3, then applying a fourth degree polynomial conversion.\n",
    "\n",
    "In further exploration of the feature importance, I noticed that the two features that were most important, aside from the original two, were weight*diameter and weight/diameter. The below CombinedAttributesAdder simply adds these two columns into the model, and when I reduced to just adding these two attributes, only weight/diameter remained the most important, so I only added that feature."
   ]
  },
  {
   "cell_type": "code",
   "execution_count": 15,
   "id": "growing-arlington",
   "metadata": {},
   "outputs": [],
   "source": [
    "### Add attributes to the data for X\n",
    "\n",
    "class CombinedAttributesAdder(BaseEstimator, TransformerMixin):\n",
    "    def __init__(self):\n",
    "        pass\n",
    "    \n",
    "    def fit(self, X, y=None):\n",
    "        return self\n",
    "    \n",
    "    def transform(self, X):\n",
    "        weight_over_diameter = X['weight'] / X['diameter']\n",
    "        X_densities = np.c_[X, weight_over_diameter]\n",
    "        \n",
    "        return X_densities"
   ]
  },
  {
   "cell_type": "code",
   "execution_count": 16,
   "id": "organizational-strip",
   "metadata": {},
   "outputs": [],
   "source": [
    "# Split X and y\n",
    "X = df.drop('name', axis=1)\n",
    "\n",
    "# Need label_encoder since using XGBoost\n",
    "\n",
    "le = LabelEncoder()\n",
    "y = le.fit_transform(df['name'])\n",
    "\n",
    "X_train, X_test, y_train, y_test = train_test_split(X, y, test_size=0.1, random_state=42)"
   ]
  },
  {
   "cell_type": "code",
   "execution_count": 17,
   "id": "worldwide-kenya",
   "metadata": {},
   "outputs": [],
   "source": [
    "# Create models, pipelines, and the grid search for each\n",
    "\n",
    "### Basic Model\n",
    "xgbc = xgb.XGBClassifier(use_label_encoder=False, eval_metric='error')\n",
    "\n",
    "### Pipeline\n",
    "xgbc_pipe = Pipeline([\n",
    "    ('attr_adder', CombinedAttributesAdder()), # Add the attributes\n",
    "    ('xgbc', xgbc) # Run the model\n",
    "])\n",
    "\n",
    "\n",
    "### Hyper-paramters used in the GridSearch\n",
    "\n",
    "n_estimators = [10, 50, 100]\n",
    "learning_rates = [0.1, 0.5, 1, 2]\n",
    "max_depths = [2, 3, 4]\n",
    "\n",
    "xgbc_param_grid = {'xgbc__n_estimators': n_estimators,\n",
    "                   'xgbc__max_depth': max_depths,\n",
    "                   'xgbc__learning_rate': learning_rates,\n",
    "                   'xgbc__booster': ['gbtree']}"
   ]
  },
  {
   "cell_type": "code",
   "execution_count": 18,
   "id": "headed-screw",
   "metadata": {},
   "outputs": [],
   "source": [
    "def grid_search_results(model, param_grid):\n",
    "    \"\"\"\n",
    "    Create grid search from the model and param_grid given.\n",
    "    Then fit and return mean_test_score and best params.\n",
    "    \"\"\"\n",
    "    grid = GridSearchCV(estimator=model, param_grid=param_grid, cv=5, scoring='accuracy')\n",
    "    grid.fit(X_train, y_train)\n",
    "\n",
    "    print(f\"Largest 5 mean test scores: {np.sort(grid.cv_results_['mean_test_score'])[::-1][:5]}\")\n",
    "    print('\\n\\n')\n",
    "    print(f\"Best params: {grid.best_params_}\")\n",
    "    \n",
    "    return grid"
   ]
  },
  {
   "cell_type": "code",
   "execution_count": 19,
   "id": "imposed-details",
   "metadata": {},
   "outputs": [
    {
     "name": "stdout",
     "output_type": "stream",
     "text": [
      "Largest 5 mean test scores: [0.99766667 0.99766667 0.99755556 0.99755556 0.99744444]\n",
      "\n",
      "\n",
      "\n",
      "Best params: {'xgbc__booster': 'gbtree', 'xgbc__learning_rate': 0.5, 'xgbc__max_depth': 3, 'xgbc__n_estimators': 50}\n"
     ]
    }
   ],
   "source": [
    "xgbc_grid = grid_search_results(xgbc_pipe, xgbc_param_grid)"
   ]
  },
  {
   "cell_type": "markdown",
   "id": "velvet-child",
   "metadata": {},
   "source": [
    "The above shows quite an impressive result. By adding in the weight/diameter feature into the data, we get mean test scores around 99.75%. While 99.13% for the base data is a very good result (without the new feature), it is 0.87 off of 100, whereas 99.75 is only 0.25 off of 100, meaning we expect to pick wrong approximately 3.5x fewer."
   ]
  },
  {
   "cell_type": "code",
   "execution_count": 20,
   "id": "flexible-screw",
   "metadata": {},
   "outputs": [],
   "source": [
    "### We will use this model as our final model.\n",
    "### First check how it performs on test set.\n",
    "\n",
    "def test_preds_metrics(model, X_test, y_test):\n",
    "    \"\"\"\n",
    "    Put in a fitted model and test set.\n",
    "    Return the predicitons. Print the\n",
    "    classification report and confusion matrix\"\"\"\n",
    "    preds = model.predict(X_test)\n",
    "    print(classification_report(y_test, preds))\n",
    "    plot_confusion_matrix(model, X_test, y_test)\n",
    "    \n",
    "    return preds"
   ]
  },
  {
   "cell_type": "code",
   "execution_count": 21,
   "id": "outstanding-cambridge",
   "metadata": {},
   "outputs": [
    {
     "name": "stdout",
     "output_type": "stream",
     "text": [
      "              precision    recall  f1-score   support\n",
      "\n",
      "           0       1.00      1.00      1.00       508\n",
      "           1       1.00      1.00      1.00       492\n",
      "\n",
      "    accuracy                           1.00      1000\n",
      "   macro avg       1.00      1.00      1.00      1000\n",
      "weighted avg       1.00      1.00      1.00      1000\n",
      "\n"
     ]
    },
    {
     "data": {
      "image/png": "[encoded data removed]",
      "text/plain": [
       "<Figure size 432x288 with 2 Axes>"
      ]
     },
     "metadata": {
      "needs_background": "light"
     },
     "output_type": "display_data"
    }
   ],
   "source": [
    "preds = test_preds_metrics(xgbc_grid, X_test, y_test)"
   ]
  },
  {
   "cell_type": "markdown",
   "id": "vocational-sport",
   "metadata": {},
   "source": [
    "As we can see, the model performs almost exactly the same on the test set as the validation set during training, only misclassifying 1/1000 for a 99.9% accuracy score.\n",
    "\n",
    "I will retrain the model on the entirety of our data X to get the final model with the hyper-parameters found above."
   ]
  },
  {
   "cell_type": "code",
   "execution_count": 22,
   "id": "destroyed-start",
   "metadata": {},
   "outputs": [
    {
     "name": "stderr",
     "output_type": "stream",
     "text": [
      "C:\\Users\\Ethan\\anaconda3\\envs\\py3TF2\\lib\\site-packages\\xgboost\\sklearn.py:888: UserWarning: The use of label encoder in XGBClassifier is deprecated and will be removed in a future release. To remove this warning, do the following: 1) Pass option use_label_encoder=False when constructing XGBClassifier object; and 2) Encode your labels (y) as integers starting with 0, i.e. 0, 1, 2, ..., [num_class - 1].\n",
      "  warnings.warn(label_encoder_deprecation_msg, UserWarning)\n"
     ]
    },
    {
     "data": {
      "text/plain": [
       "Pipeline(steps=[('attr_adder', CombinedAttributesAdder()),\n",
       "                ('xgbc',\n",
       "                 XGBClassifier(base_score=0.5, booster='gbtree',\n",
       "                               colsample_bylevel=1, colsample_bynode=1,\n",
       "                               colsample_bytree=1, eval_metric='error', gamma=0,\n",
       "                               gpu_id=-1, importance_type='gain',\n",
       "                               interaction_constraints='', learning_rate=0.5,\n",
       "                               max_delta_step=0, max_depth=4,\n",
       "                               min_child_weight=1, missing=nan,\n",
       "                               monotone_constraints='()', n_estimators=50,\n",
       "                               n_jobs=8, num_parallel_tree=1, random_state=0,\n",
       "                               reg_alpha=0, reg_lambda=1, scale_pos_weight=1,\n",
       "                               subsample=1, tree_method='exact',\n",
       "                               validate_parameters=1, verbosity=None))])"
      ]
     },
     "execution_count": 22,
     "metadata": {},
     "output_type": "execute_result"
    }
   ],
   "source": [
    "xgbc = xgb.XGBClassifier(n_estimators=50,\n",
    "                         max_depth=4,\n",
    "                         learning_rate=0.5,\n",
    "                         booster='gbtree',\n",
    "                         eval_metric='error')\n",
    "\n",
    "final_model = Pipeline([\n",
    "    ('attr_adder', CombinedAttributesAdder()),\n",
    "    ('xgbc', xgbc),\n",
    "])\n",
    "\n",
    "final_model.fit(X, y)"
   ]
  },
  {
   "cell_type": "code",
   "execution_count": 27,
   "id": "ready-tunnel",
   "metadata": {},
   "outputs": [
    {
     "data": {
      "text/plain": [
       "array([0.0507431 , 0.08174186, 0.867515  ], dtype=float32)"
      ]
     },
     "execution_count": 27,
     "metadata": {},
     "output_type": "execute_result"
    }
   ],
   "source": [
    "final_model['xgbc'].feature_importances_ # diameter, weight, and weight/diameter"
   ]
  },
  {
   "cell_type": "markdown",
   "id": "removable-ontario",
   "metadata": {},
   "source": [
    "The new feature has very high importance (86.7%) compared to the two original features. This helps explain why the accuracy was much closer to 100 when adding this new feature."
   ]
  },
  {
   "cell_type": "code",
   "execution_count": 31,
   "id": "incredible-window",
   "metadata": {},
   "outputs": [],
   "source": [
    "from joblib import dump, load"
   ]
  },
  {
   "cell_type": "code",
   "execution_count": 32,
   "id": "fiscal-sweet",
   "metadata": {},
   "outputs": [
    {
     "data": {
      "text/plain": [
       "['LabelEncoder.joblib']"
      ]
     },
     "execution_count": 32,
     "metadata": {},
     "output_type": "execute_result"
    }
   ],
   "source": [
    "# Save the model and the label encoder, that way the user can see the name of the citrus and not just a number.\n",
    "dump(final_model, 'FinalCitrusClassificationModel.joblib')\n",
    "dump(le, 'LabelEncoder.joblib')"
   ]
  },
  {
   "cell_type": "code",
   "execution_count": 33,
   "id": "banned-cradle",
   "metadata": {},
   "outputs": [],
   "source": [
    "# load them both up to use on random data\n",
    "model = load('FinalCitrusClassificationModel.joblib')\n",
    "label = load('LabelEncoder.joblib')"
   ]
  },
  {
   "cell_type": "markdown",
   "id": "rotary-mechanics",
   "metadata": {},
   "source": [
    "## Test model on random data"
   ]
  },
  {
   "cell_type": "code",
   "execution_count": 34,
   "id": "surrounded-delhi",
   "metadata": {},
   "outputs": [
    {
     "name": "stdout",
     "output_type": "stream",
     "text": [
      "1.0\n"
     ]
    }
   ],
   "source": [
    "# Test on a few random rows in X just to see how it performs\n",
    "\n",
    "rand_idx = np.random.randint(0,X.shape[0],size=50)\n",
    "\n",
    "rand_data = X.iloc[rand_idx]\n",
    "\n",
    "rand_preds = le.inverse_transform(final_model.predict(rand_data))\n",
    "\n",
    "true_vals = df.iloc[rand_idx]['name']\n",
    "\n",
    "pred_true_df = pd.DataFrame(index=rand_idx, \n",
    "                            data=np.c_[rand_preds, true_vals.to_numpy()], \n",
    "                            columns=['prediction', 'true value'])\n",
    "\n",
    "print(accuracy_score(pred_true_df['prediction'], pred_true_df['true value']))"
   ]
  },
  {
   "cell_type": "markdown",
   "id": "incident-dragon",
   "metadata": {},
   "source": [
    "To simulate a user putting in a collection of diameters and weights to classify, I create a get_prediction function below that outputs the predictions, in order, based on the diameters/weights inputted."
   ]
  },
  {
   "cell_type": "code",
   "execution_count": 35,
   "id": "distant-upset",
   "metadata": {},
   "outputs": [],
   "source": [
    "def get_prediction(model, X, label_encoder):\n",
    "    \"\"\"\n",
    "    Input a list of lists for diameter and weights.\n",
    "    Output the prediction's name.\n",
    "    \"\"\"\n",
    "    X_array = np.array(X)\n",
    "    X_df = pd.DataFrame(data=X_array, columns=['diameter', 'weight'])\n",
    "    preds = model.predict(X_df)\n",
    "    preds_name = label_encoder.inverse_transform(preds)\n",
    "    \n",
    "    return preds_name"
   ]
  },
  {
   "cell_type": "code",
   "execution_count": 36,
   "id": "weird-rocket",
   "metadata": {},
   "outputs": [
    {
     "name": "stdout",
     "output_type": "stream",
     "text": [
      "The sample data was diameter 8.56 and weight 153.62 The output value for this sample data was orange and the prediction is orange. \n",
      "\n",
      "\n",
      "The sample data was diameter 8.75 and weight 156.65 The output value for this sample data was orange and the prediction is orange. \n",
      "\n",
      "\n",
      "The sample data was diameter 11.19 and weight 193.24 The output value for this sample data was grapefruit and the prediction is grapefruit. \n",
      "\n",
      "\n",
      "The sample data was diameter 9.95 and weight 175.45 The output value for this sample data was orange and the prediction is orange. \n",
      "\n",
      "\n",
      "The sample data was diameter 10.93 and weight 189.02 The output value for this sample data was grapefruit and the prediction is grapefruit. \n",
      "\n",
      "\n",
      "The sample data was diameter 12.2 and weight 208.36 The output value for this sample data was grapefruit and the prediction is grapefruit. \n",
      "\n",
      "\n",
      "The sample data was diameter 8.8 and weight 157.45 The output value for this sample data was orange and the prediction is orange. \n",
      "\n",
      "\n"
     ]
    }
   ],
   "source": [
    "# Sample with a few random, but convert to a lists of lists\n",
    "\n",
    "rand_idx = np.random.randint(0, X.shape[0], size=7)\n",
    "\n",
    "rand_data = X.iloc[rand_idx]\n",
    "rand_value = le.inverse_transform(y[rand_idx]) # random value that we want to predict correctly\n",
    "\n",
    "sample_data = rand_data.to_numpy().tolist() # data for the random index chosen\n",
    "\n",
    "pred_name = get_prediction(final_model, sample_data, le)\n",
    "\n",
    "for i in range(len(sample_data)):\n",
    "    print(f'The sample data was diameter {sample_data[i][0]} and weight {sample_data[i][1]}',\n",
    "          f'The output value for this sample data was {rand_value[i]}',\n",
    "          f'and the prediction is {pred_name[i]}.',\n",
    "          f'\\n\\n')"
   ]
  },
  {
   "cell_type": "markdown",
   "id": "pressing-behalf",
   "metadata": {},
   "source": [
    "### Final Comments\n",
    "\n",
    "With just knowing the weight and diameter of the fruit, our model was able to predict ~99.75% accuracy on the test/hold-out set by adding in one new feature column based on the two. I find this to be quite a valuable lesson, since I often notice, most of the time, new features are added in by multiplying (using a polynomial transformer), but division gives ratios, which I have found helpful for separating data in the past."
   ]
  }
 ],
 "metadata": {
  "kernelspec": {
   "display_name": "Python py3TF2",
   "language": "python",
   "name": "py3tf2"
  },
  "language_info": {
   "codemirror_mode": {
    "name": "ipython",
    "version": 3
   },
   "file_extension": ".py",
   "mimetype": "text/x-python",
   "name": "python",
   "nbconvert_exporter": "python",
   "pygments_lexer": "ipython3",
   "version": "3.8.5"
  }
 },
 "nbformat": 4,
 "nbformat_minor": 5
}
